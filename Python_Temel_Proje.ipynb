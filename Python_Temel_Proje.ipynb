{
  "cells": [
    {
      "cell_type": "markdown",
      "metadata": {
        "id": "4xD6iyS6CZDq"
      },
      "source": [
        "1- Bir listeyi düzleştiren (flatten) fonksiyon yazın. Elemanları birden çok katmanlı listlerden ([[3],2] gibi) oluşabileceği gibi, non-scalar verilerden de oluşabilir. Örnek olarak:\n",
        "\n",
        "input: [[1,'a',['cat'],2],[[[3]],'dog'],4,5]\n",
        "\n",
        "output: [1,'a','cat',2,3,'dog',4,5]"
      ]
    },
    {
      "cell_type": "code",
      "execution_count": 1,
      "metadata": {
        "id": "l8PxWYPFCZDu"
      },
      "outputs": [],
      "source": [
        "def flatten_list(some_list):\n",
        "    \n",
        "    while True:\n",
        "        flattened_list = []\n",
        "            \n",
        "        for element in some_list:\n",
        "            if type(element) != list:\n",
        "                flattened_list.append(element)\n",
        "            else:\n",
        "                for item in element:\n",
        "                    flattened_list.append(item)\n",
        "        some_list = flattened_list\n",
        "        \n",
        "        list_types = []\n",
        "        for element in some_list:\n",
        "            list_types.append(type(element))\n",
        "        if list not in list_types:\n",
        "            break\n",
        "\n",
        "    return some_list         "
      ]
    },
    {
      "cell_type": "code",
      "execution_count": 2,
      "metadata": {
        "id": "tVM-t5lJCZDw"
      },
      "outputs": [],
      "source": [
        "example_list = [[1,'a',['cat'],2],[[[3]],'dog'],4,5]"
      ]
    },
    {
      "cell_type": "code",
      "execution_count": 3,
      "metadata": {
        "colab": {
          "base_uri": "https://localhost:8080/"
        },
        "id": "dkA62ImGCZDw",
        "outputId": "b688eeb4-0092-462c-f89b-37435a70c9e2"
      },
      "outputs": [
        {
          "output_type": "stream",
          "name": "stdout",
          "text": [
            "Example list:   [[1, 'a', ['cat'], 2], [[[3]], 'dog'], 4, 5]\n",
            "Flattened list: [1, 'a', 'cat', 2, 3, 'dog', 4, 5]\n"
          ]
        }
      ],
      "source": [
        "print(f\"Example list:   {example_list}\")\n",
        "print(f\"Flattened list: {flatten_list(example_list)}\")"
      ]
    },
    {
      "cell_type": "markdown",
      "metadata": {
        "id": "LAMBnM3ZCZDx"
      },
      "source": [
        "2- Verilen listenin içindeki elemanları tersine döndüren bir fonksiyon yazın. Eğer listenin içindeki elemanlar da liste içeriyorsa onların elemanlarını da tersine döndürün. Örnek olarak:\n",
        "\n",
        "input: [[1, 2], [3, 4], [5, 6, 7]]\n",
        "\n",
        "output: [[[7, 6, 5], [4, 3], [2, 1]]"
      ]
    },
    {
      "cell_type": "code",
      "execution_count": 4,
      "metadata": {
        "id": "KQv5hFKyCZDy"
      },
      "outputs": [],
      "source": [
        "def reverse_list(some_list):\n",
        "    \n",
        "    new_list = []\n",
        "    \n",
        "    for element in some_list[::-1]:\n",
        "        if type(element) == list:\n",
        "            new_list.append(element[::-1])\n",
        "        else:\n",
        "            new_list.append(element)\n",
        "            \n",
        "    return new_list"
      ]
    },
    {
      "cell_type": "code",
      "execution_count": 5,
      "metadata": {
        "id": "JCm_ephdCZDz"
      },
      "outputs": [],
      "source": [
        "example_list = [[1, 2], [3, 4], [5, 6, 7]]"
      ]
    },
    {
      "cell_type": "code",
      "execution_count": 6,
      "metadata": {
        "colab": {
          "base_uri": "https://localhost:8080/"
        },
        "id": "poPQFVh1CZD0",
        "outputId": "ce3d3197-c4ef-4b78-cfff-36a69c4c597f"
      },
      "outputs": [
        {
          "output_type": "stream",
          "name": "stdout",
          "text": [
            "Example list:   [[1, 2], [3, 4], [5, 6, 7]]\n",
            "Reversed list: [[7, 6, 5], [4, 3], [2, 1]]\n"
          ]
        }
      ],
      "source": [
        "print(f\"Example list:   {example_list}\")\n",
        "print(f\"Reversed list: {reverse_list(example_list)}\")"
      ]
    }
  ],
  "metadata": {
    "kernelspec": {
      "display_name": "Python 3",
      "language": "python",
      "name": "python3"
    },
    "language_info": {
      "codemirror_mode": {
        "name": "ipython",
        "version": 3
      },
      "file_extension": ".py",
      "mimetype": "text/x-python",
      "name": "python",
      "nbconvert_exporter": "python",
      "pygments_lexer": "ipython3",
      "version": "3.8.5"
    },
    "colab": {
      "name": "Python_Temel_Proje (2).ipynb",
      "provenance": []
    }
  },
  "nbformat": 4,
  "nbformat_minor": 0
}